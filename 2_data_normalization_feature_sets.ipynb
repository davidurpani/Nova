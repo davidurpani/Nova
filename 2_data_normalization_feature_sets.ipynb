{
 "cells": [
  {
   "cell_type": "markdown",
   "metadata": {},
   "source": [
    "# Data Normalization & Feature Sets\n",
    "In this notebook we will take our data gathered from **1_downloading_data.ipynb** and conduct the following: \n",
    "* Create a **pandas df**\n",
    "* Add **3 features** represented as a column for each utilizing: https://github.com/mrjbq7/ta-lib\n",
    "* Save our new **pandas df** as a **csv** within the same directory\n",
    "\n",
    "### 3 feature set\n",
    "```python\n",
    "# tuple: first value = parameters, second value = features\n",
    "features = {\n",
    "    SMA: ([5,10,20], 4),\n",
    "}\n",
    "```\n",
    "\n",
    "Once our new **pandas df** is created, we will then conduct a **sliding window** approach to create our images. This will be conducted in **notebook 3** \n",
    "\n",
    "## Oanda Error / Bug \n",
    "There seems to be a small *bug* when pulling data from **Oanda**. When you run **1_downloading_data.ipynb**, you may have put a date range such as: (2019,2,17) to (2019,3,10) \n",
    "\n",
    "For some reason, **Oanda** will then return that data with a new range set back a date. The data you wanted to pull was still pulled, it just seems to display differently. \n",
    "\n",
    "Therefor to correct this error we add **one day** to our **date column** and then make that our index\n",
    "\n",
    "\n",
    "### side note\n",
    "Trading days are **Monday to Friday** thus if you pulled data and it's not represented a certain way (skipped days), it's because of weekends."
   ]
  },
  {
   "cell_type": "code",
   "execution_count": 18,
   "metadata": {},
   "outputs": [],
   "source": [
    "import pandas as pd\n",
    "import numpy as np\n",
    "import os\n",
    "from ta import *\n",
    "import time\n",
    "from datetime import date\n",
    "from datetime import datetime \n",
    "from datetime import timedelta\n",
    "import matplotlib.pyplot as plt\n",
    "\n",
    "import talib\n",
    "from talib import abstract\n",
    "from talib import MA_Type\n",
    "\n",
    "%matplotlib inline"
   ]
  },
  {
   "cell_type": "code",
   "execution_count": 2,
   "metadata": {},
   "outputs": [
    {
     "data": {
      "text/plain": [
       "['GBP_USD_D_2009-06-01_2018-06-01.csv']"
      ]
     },
     "execution_count": 2,
     "metadata": {},
     "output_type": "execute_result"
    }
   ],
   "source": [
    "# listing csv files\n",
    "os.listdir(f'{os.curdir}/data/raw') "
   ]
  },
  {
   "cell_type": "code",
   "execution_count": 3,
   "metadata": {},
   "outputs": [],
   "source": [
    "# Change this value to the file you want\n",
    "file = 'GBP_USD_D_2009-06-01_2018-06-01.csv'"
   ]
  },
  {
   "cell_type": "code",
   "execution_count": 4,
   "metadata": {},
   "outputs": [],
   "source": [
    "# loading data\n",
    "data_path = f'{os.curdir}/data/raw/{file}'\n",
    "df = pd.read_csv(data_path, names=['time', 'complete', 'open', 'high', 'low', 'close', 'volume'])\n",
    "\n",
    "\"\"\"THE FOLLOWING ASSUMED YOU HAVE USED OANDA API TO SCRAPE DATA\"\"\"\n",
    "# converting time to datetime\n",
    "df['time'] = pd.to_datetime(df['time'])\n",
    "\n",
    "# correcting our error \n",
    "df['time'] = df['time'] + timedelta(days=1)\n",
    "\n",
    "# setting time as our index\n",
    "df.set_index('time',inplace=True)"
   ]
  },
  {
   "cell_type": "code",
   "execution_count": 5,
   "metadata": {},
   "outputs": [
    {
     "name": "stdout",
     "output_type": "stream",
     "text": [
      "<class 'pandas.core.frame.DataFrame'>\n",
      "DatetimeIndex: 2670 entries, 2009-06-01 21:00:00 to 2018-06-01 21:00:00\n",
      "Data columns (total 6 columns):\n",
      "complete    2670 non-null bool\n",
      "open        2670 non-null float64\n",
      "high        2670 non-null float64\n",
      "low         2670 non-null float64\n",
      "close       2670 non-null float64\n",
      "volume      2670 non-null int64\n",
      "dtypes: bool(1), float64(4), int64(1)\n",
      "memory usage: 127.8 KB\n"
     ]
    }
   ],
   "source": [
    "df.info()"
   ]
  },
  {
   "cell_type": "code",
   "execution_count": 6,
   "metadata": {},
   "outputs": [],
   "source": [
    "# Making copy\n",
    "f_df = df.copy()"
   ]
  },
  {
   "cell_type": "code",
   "execution_count": 7,
   "metadata": {},
   "outputs": [],
   "source": [
    "\"\"\"\n",
    "SMA\n",
    "Parameters = [15, 20, 25, 30]\n",
    "\"\"\"\n",
    "f_df['SMA_5'] = talib.SMA(f_df['close'], timeperiod=5)\n",
    "f_df['SMA_10'] = talib.SMA(f_df['close'], timeperiod=10)\n",
    "f_df['SMA_20'] = talib.SMA(f_df['close'], timeperiod=20)"
   ]
  },
  {
   "cell_type": "code",
   "execution_count": 12,
   "metadata": {},
   "outputs": [],
   "source": [
    "# Trimming it down - removing NAN\n",
    "f_df.dropna(inplace=True)"
   ]
  },
  {
   "cell_type": "code",
   "execution_count": 15,
   "metadata": {},
   "outputs": [],
   "source": [
    "# removing columns we don't need\n",
    "f_df.drop(columns=['complete', 'volume', 'high', 'low'], inplace=True)"
   ]
  },
  {
   "cell_type": "code",
   "execution_count": 60,
   "metadata": {},
   "outputs": [
    {
     "data": {
      "image/png": "[encoded data removed]",
      "text/plain": [
       "<Figure size 432x288 with 1 Axes>"
      ]
     },
     "metadata": {
      "needs_background": "light"
     },
     "output_type": "display_data"
    }
   ],
   "source": [
    "# Creating a test image \n",
    "test_1 = f_df.iloc[:15]\n",
    "\n",
    "plt.plot(test_1['open'])\n",
    "plt.plot(test_1['close'])\n",
    "plt.plot(test_1['SMA_5'])\n",
    "plt.plot(test_1['SMA_10'])\n",
    "plt.plot(test_1['SMA_20'])\n",
    "plt.axis('off')\n",
    "plt.show()"
   ]
  },
  {
   "cell_type": "code",
   "execution_count": 61,
   "metadata": {},
   "outputs": [],
   "source": [
    "#saving datastore to our post_processing directory\n",
    "path = f'{os.curdir}/data/post_processing'\n",
    "f_df.to_csv(f'{path}/datastore.csv',index=True)"
   ]
  },
  {
   "cell_type": "code",
   "execution_count": null,
   "metadata": {},
   "outputs": [],
   "source": []
  },
  {
   "cell_type": "code",
   "execution_count": null,
   "metadata": {},
   "outputs": [],
   "source": []
  },
  {
   "cell_type": "code",
   "execution_count": null,
   "metadata": {},
   "outputs": [],
   "source": []
  },
  {
   "cell_type": "code",
   "execution_count": null,
   "metadata": {},
   "outputs": [],
   "source": []
  },
  {
   "cell_type": "code",
   "execution_count": null,
   "metadata": {},
   "outputs": [],
   "source": []
  },
  {
   "cell_type": "code",
   "execution_count": null,
   "metadata": {},
   "outputs": [],
   "source": []
  },
  {
   "cell_type": "code",
   "execution_count": null,
   "metadata": {},
   "outputs": [],
   "source": []
  },
  {
   "cell_type": "code",
   "execution_count": null,
   "metadata": {},
   "outputs": [],
   "source": []
  },
  {
   "cell_type": "code",
   "execution_count": null,
   "metadata": {},
   "outputs": [],
   "source": []
  },
  {
   "cell_type": "code",
   "execution_count": null,
   "metadata": {},
   "outputs": [],
   "source": []
  },
  {
   "cell_type": "code",
   "execution_count": null,
   "metadata": {},
   "outputs": [],
   "source": []
  },
  {
   "cell_type": "code",
   "execution_count": null,
   "metadata": {},
   "outputs": [],
   "source": []
  },
  {
   "cell_type": "code",
   "execution_count": null,
   "metadata": {},
   "outputs": [],
   "source": []
  },
  {
   "cell_type": "code",
   "execution_count": null,
   "metadata": {},
   "outputs": [],
   "source": []
  },
  {
   "cell_type": "code",
   "execution_count": null,
   "metadata": {},
   "outputs": [],
   "source": []
  },
  {
   "cell_type": "code",
   "execution_count": null,
   "metadata": {},
   "outputs": [],
   "source": []
  },
  {
   "cell_type": "code",
   "execution_count": null,
   "metadata": {},
   "outputs": [],
   "source": []
  }
 ],
 "metadata": {
  "kernelspec": {
   "display_name": "Python 3",
   "language": "python",
   "name": "python3"
  },
  "language_info": {
   "codemirror_mode": {
    "name": "ipython",
    "version": 3
   },
   "file_extension": ".py",
   "mimetype": "text/x-python",
   "name": "python",
   "nbconvert_exporter": "python",
   "pygments_lexer": "ipython3",
   "version": "3.6.8"
  }
 },
 "nbformat": 4,
 "nbformat_minor": 2
}
