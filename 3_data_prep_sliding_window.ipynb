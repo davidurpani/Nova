{
 "cells": [
  {
   "cell_type": "markdown",
   "metadata": {},
   "source": [
    "# Data Prep & Sliding Window \n",
    "For this notebook, we will take our **datastore.csv** file created with **notebooks 1&2** and we will further process & apply a *sliding window* approach to labeling our data. \n",
    "\n",
    "Given this data is on time-series nature, we must keep it's time-series integrity intact. \n",
    "\n",
    "To do so, we will slide a **15-day window** ploting that with **matplotlib** and saving that chart as an image. Given we have multiple indicators, we will take advantage of colors. \n",
    "\n",
    "```python\n",
    "if open_price_20th_day > close_of_15th_by_2_percent:\n",
    "    prediction = \"buy\" # buy on 15th, sell on 20th\n",
    "\n",
    "if open_price_20th_day < close_of_15th_by_1_percent:\n",
    "    prediction = \"sell\" # sell on 15th, buy on 20th \n",
    "\n",
    "else:\n",
    "    prediction = \"hold\n",
    "```\n",
    "\n",
    "## Following\n",
    "We will implement and experiment with other labeling methods and strategies that are unique to trading execution algorithms"
   ]
  },
  {
   "cell_type": "code",
   "execution_count": null,
   "metadata": {},
   "outputs": [],
   "source": [
    "# !pip install tqdm\n",
    "# !pip install seaborn\n",
    "# !pip install tifffile"
   ]
  },
  {
   "cell_type": "code",
   "execution_count": 1,
   "metadata": {},
   "outputs": [],
   "source": [
    "from tqdm import tnrange\n",
    "import pandas as pd\n",
    "import numpy as np\n",
    "import os\n",
    "import matplotlib.pyplot as plt\n",
    "import seaborn as sns\n",
    "from tifffile import imsave\n",
    "import tifffile\n",
    "\n",
    "%matplotlib inline"
   ]
  },
  {
   "cell_type": "code",
   "execution_count": 4,
   "metadata": {},
   "outputs": [],
   "source": [
    "# Loading csv\n",
    "path = './data/post_processing/datastore.csv'\n",
    "df = pd.read_csv(path, index_col='time')"
   ]
  },
  {
   "cell_type": "code",
   "execution_count": 6,
   "metadata": {},
   "outputs": [
    {
     "data": {
      "text/html": [
       "<div>\n",
       "<style scoped>\n",
       "    .dataframe tbody tr th:only-of-type {\n",
       "        vertical-align: middle;\n",
       "    }\n",
       "\n",
       "    .dataframe tbody tr th {\n",
       "        vertical-align: top;\n",
       "    }\n",
       "\n",
       "    .dataframe thead th {\n",
       "        text-align: right;\n",
       "    }\n",
       "</style>\n",
       "<table border=\"1\" class=\"dataframe\">\n",
       "  <thead>\n",
       "    <tr style=\"text-align: right;\">\n",
       "      <th></th>\n",
       "      <th>open</th>\n",
       "      <th>close</th>\n",
       "      <th>SMA_5</th>\n",
       "      <th>SMA_10</th>\n",
       "      <th>SMA_20</th>\n",
       "    </tr>\n",
       "    <tr>\n",
       "      <th>time</th>\n",
       "      <th></th>\n",
       "      <th></th>\n",
       "      <th></th>\n",
       "      <th></th>\n",
       "      <th></th>\n",
       "    </tr>\n",
       "  </thead>\n",
       "  <tbody>\n",
       "    <tr>\n",
       "      <th>2009-06-23 21:00:00</th>\n",
       "      <td>1.63469</td>\n",
       "      <td>1.64550</td>\n",
       "      <td>1.642852</td>\n",
       "      <td>1.641587</td>\n",
       "      <td>1.634591</td>\n",
       "    </tr>\n",
       "    <tr>\n",
       "      <th>2009-06-24 21:00:00</th>\n",
       "      <td>1.64547</td>\n",
       "      <td>1.64074</td>\n",
       "      <td>1.644338</td>\n",
       "      <td>1.641218</td>\n",
       "      <td>1.634408</td>\n",
       "    </tr>\n",
       "    <tr>\n",
       "      <th>2009-06-25 21:00:00</th>\n",
       "      <td>1.64080</td>\n",
       "      <td>1.63684</td>\n",
       "      <td>1.641810</td>\n",
       "      <td>1.640518</td>\n",
       "      <td>1.633360</td>\n",
       "    </tr>\n",
       "    <tr>\n",
       "      <th>2009-06-26 21:00:00</th>\n",
       "      <td>1.63731</td>\n",
       "      <td>1.65245</td>\n",
       "      <td>1.642052</td>\n",
       "      <td>1.642559</td>\n",
       "      <td>1.634398</td>\n",
       "    </tr>\n",
       "    <tr>\n",
       "      <th>2009-06-27 21:00:00</th>\n",
       "      <td>1.65245</td>\n",
       "      <td>1.65245</td>\n",
       "      <td>1.645596</td>\n",
       "      <td>1.643680</td>\n",
       "      <td>1.636144</td>\n",
       "    </tr>\n",
       "  </tbody>\n",
       "</table>\n",
       "</div>"
      ],
      "text/plain": [
       "                        open    close     SMA_5    SMA_10    SMA_20\n",
       "time                                                               \n",
       "2009-06-23 21:00:00  1.63469  1.64550  1.642852  1.641587  1.634591\n",
       "2009-06-24 21:00:00  1.64547  1.64074  1.644338  1.641218  1.634408\n",
       "2009-06-25 21:00:00  1.64080  1.63684  1.641810  1.640518  1.633360\n",
       "2009-06-26 21:00:00  1.63731  1.65245  1.642052  1.642559  1.634398\n",
       "2009-06-27 21:00:00  1.65245  1.65245  1.645596  1.643680  1.636144"
      ]
     },
     "execution_count": 6,
     "metadata": {},
     "output_type": "execute_result"
    }
   ],
   "source": [
    "df.head()"
   ]
  },
  {
   "cell_type": "markdown",
   "metadata": {},
   "source": [
    "## Labeling & Creating Images "
   ]
  },
  {
   "cell_type": "code",
   "execution_count": 98,
   "metadata": {},
   "outputs": [],
   "source": [
    "# Plotting and image saving function\n",
    "def save_image(df, path):\n",
    "    \"\"\"\n",
    "    df: dataframe to create images\n",
    "    path: the path to save the file\n",
    "    \"\"\"\n",
    "    start_index = 0\n",
    "    end_index = 15\n",
    "    label_index = 20\n",
    "    img_index = 1\n",
    "    \n",
    "    for i in tnrange(len(df), desc='Dataset %'):\n",
    "        \n",
    "        try:\n",
    "            # grabbing our window\n",
    "            window_df = df.iloc[start_index:end_index]\n",
    "\n",
    "            # Grabbing last day\n",
    "            day_15_close = window_df.iloc[-1]['close']\n",
    "\n",
    "            # Calculating 2% increase\n",
    "            two_percent_increase = day_15_close + (day_15_close * 0.02)\n",
    "\n",
    "            # Calculating 1% decrease \n",
    "            one_percent_decrease = day_15_close - (day_15_close * 0.01)\n",
    "\n",
    "            # plotting our graph\n",
    "            plt.plot(window_df['close'])\n",
    "            plt.plot(window_df['open'])\n",
    "            plt.plot(window_df['SMA_5'])\n",
    "            plt.plot(window_df['SMA_10'])\n",
    "            plt.plot(window_df['SMA_20'])\n",
    "            plt.axis('off')\n",
    "\n",
    "            # Labelling\n",
    "            if df.iloc[label_index]['open'] >= two_percent_increase:\n",
    "\n",
    "                # Saving buy\n",
    "                label = 'Buy'\n",
    "                plt.savefig(f'{path}/{img_index}.{label}.png', dpi=100)\n",
    "                plt.close()\n",
    "\n",
    "                # Increase image index\n",
    "                img_index += 1\n",
    "\n",
    "            elif df.iloc[label_index]['open'] <= one_percent_decrease:\n",
    "\n",
    "                # Sell\n",
    "                label = 'Sell'\n",
    "                plt.savefig(f'{path}/{img_index}.{label}.png', dpi=100)\n",
    "                plt.close()\n",
    "\n",
    "                # Increase index\n",
    "                img_index += 1\n",
    "\n",
    "            else:\n",
    "\n",
    "                # hold\n",
    "                label = 'Hold'\n",
    "                plt.savefig(f'{path}/{img_index}.{label}.png', dpi=100)\n",
    "                plt.close()\n",
    "\n",
    "                # increase index\n",
    "                img_index += 1\n",
    "\n",
    "            # Counting up index\n",
    "            start_index += 1\n",
    "            end_index += 1\n",
    "            label_index += 1       \n",
    "            \n",
    "        except Exception:\n",
    "            pass\n",
    "        \n",
    "    # Finished!\n",
    "    print('Finished!')"
   ]
  },
  {
   "cell_type": "code",
   "execution_count": 99,
   "metadata": {},
   "outputs": [
    {
     "data": {
      "application/vnd.jupyter.widget-view+json": {
       "model_id": "4c76583b7f444aa08426319972c99344",
       "version_major": 2,
       "version_minor": 0
      },
      "text/plain": [
       "HBox(children=(IntProgress(value=0, description='Dataset %', max=2650, style=ProgressStyle(description_width='…"
      ]
     },
     "metadata": {},
     "output_type": "display_data"
    },
    {
     "name": "stdout",
     "output_type": "stream",
     "text": [
      "Finished!\n"
     ]
    },
    {
     "data": {
      "image/png": "[encoded data removed]",
      "text/plain": [
       "<Figure size 432x288 with 1 Axes>"
      ]
     },
     "metadata": {
      "needs_background": "light"
     },
     "output_type": "display_data"
    }
   ],
   "source": [
    "# Saving our images!\n",
    "save_path = f'{os.curdir}/data/model_data/images_unscattered'\n",
    "save_image(df, save_path)"
   ]
  },
  {
   "cell_type": "code",
   "execution_count": 88,
   "metadata": {},
   "outputs": [],
   "source": [
    "# # Cleaning scattered - removing hold for scattered df\n",
    "# \"\"\"\n",
    "# The purpose of this is to see if it can generalize better with buy/sell (binary)\n",
    "# \"\"\"\n",
    "# path = f'{os.curdir}/data/model_data/images_scattered'\n",
    "\n",
    "# for f in os.listdir(path):\n",
    "#     if f.split('.')[1] == 'Hold':\n",
    "#         os.remove(f'{path}/{f}')\n",
    "#     else:\n",
    "#         pass"
   ]
  },
  {
   "cell_type": "markdown",
   "metadata": {},
   "source": [
    "## Labeling & Image Creation - Stationary Close"
   ]
  },
  {
   "cell_type": "code",
   "execution_count": 93,
   "metadata": {},
   "outputs": [],
   "source": [
    "stationary_close = df['close'].diff()\n",
    "df['Stationary_Close'] = stationary_close\n",
    "df = df[1:]"
   ]
  },
  {
   "cell_type": "code",
   "execution_count": 96,
   "metadata": {},
   "outputs": [],
   "source": [
    "# Plotting and image saving function\n",
    "def save_image(df, path):\n",
    "    \"\"\"\n",
    "    df: dataframe to create images\n",
    "    path: the path to save the file\n",
    "    \"\"\"\n",
    "    start_index = 0\n",
    "    end_index = 28\n",
    "    label_index = 29\n",
    "    img_index = 1\n",
    "    \n",
    "    for i in tnrange(len(df), desc='Dataset %'):\n",
    "        \n",
    "        try:\n",
    "            # grabbing our window\n",
    "            window_df = df.iloc[start_index:end_index]\n",
    "\n",
    "            # plotting our graph\n",
    "            plt.plot(window_df['close'])\n",
    "            plt.plot(window_df['open'])\n",
    "            plt.plot(window_df['SMA_5'])\n",
    "            plt.plot(window_df['SMA_10'])\n",
    "            plt.plot(window_df['SMA_20'])\n",
    "            plt.axis('off')\n",
    "\n",
    "            # Labelling\n",
    "            if df.iloc[label_index]['Stationary_Close'] > 0:\n",
    "\n",
    "                # Saving buy\n",
    "                label = 'Buy'\n",
    "                plt.savefig(f'{path}/{img_index}.{label}.png', dpi=100)\n",
    "                plt.close()\n",
    "\n",
    "                # Increase image index\n",
    "                img_index += 1\n",
    "\n",
    "            else:\n",
    "\n",
    "                # Sell\n",
    "                label = 'Sell'\n",
    "                plt.savefig(f'{path}/{img_index}.{label}.png', dpi=100)\n",
    "                plt.close()\n",
    "\n",
    "                # increase index\n",
    "                img_index += 1\n",
    "\n",
    "            # Counting up index\n",
    "            start_index += 1\n",
    "            end_index += 1\n",
    "            label_index += 1       \n",
    "            \n",
    "        except Exception:\n",
    "            pass\n",
    "        \n",
    "    # Finished!\n",
    "    print('Finished!')"
   ]
  },
  {
   "cell_type": "code",
   "execution_count": 97,
   "metadata": {},
   "outputs": [
    {
     "data": {
      "application/vnd.jupyter.widget-view+json": {
       "model_id": "d66b0ed1afe84a6ea184d9ec1aec0036",
       "version_major": 2,
       "version_minor": 0
      },
      "text/plain": [
       "HBox(children=(IntProgress(value=0, description='Dataset %', max=2650, style=ProgressStyle(description_width='…"
      ]
     },
     "metadata": {},
     "output_type": "display_data"
    },
    {
     "name": "stdout",
     "output_type": "stream",
     "text": [
      "Finished!\n"
     ]
    },
    {
     "data": {
      "image/png": "[encoded data removed]",
      "text/plain": [
       "<Figure size 432x288 with 1 Axes>"
      ]
     },
     "metadata": {
      "needs_background": "light"
     },
     "output_type": "display_data"
    }
   ],
   "source": [
    "# Saving our images!\n",
    "save_path = f'{os.curdir}/data/model_data/images'\n",
    "save_image(df, save_path)"
   ]
  },
  {
   "cell_type": "markdown",
   "metadata": {},
   "source": [
    "## Labeling CSV\n",
    "Now we will create CSV's that correspond with the image dataset"
   ]
  },
  {
   "cell_type": "code",
   "execution_count": 134,
   "metadata": {},
   "outputs": [],
   "source": [
    "# The original dataset\n",
    "path = './data/model_data/images_unscattered'\n",
    "\n",
    "unscattered_files = os.listdir(path)\n",
    "\n",
    "for f in unscattered_files:\n",
    "    if f == '.ipynb_checkpoints':\n",
    "        unscattered_files.remove(f)\n",
    "    else:\n",
    "        pass\n",
    "    \n",
    "unscattered_df = pd.DataFrame(unscattered_files, columns=['image_name'])\n",
    "unscattered_df['label'] = [i.split('.')[1] for i in unscattered_df['image_name']]\n",
    "unscattered_df['image_name'] = [i.split('.')[0] + '.' + i.split('.')[1] for i in unscattered_df['image_name']]\n",
    "unscattered_df['idx'] = [int(i.split('.')[0]) for i in unscattered_df['image_name']]\n",
    "unscattered_df.set_index('idx', inplace=True)\n",
    "unscattered_df.sort_index(ascending=True, inplace=True)\n",
    "\n",
    "save_path = './data/model_data/'\n",
    "unscattered_df.to_csv(f'{save_path}/unscattered.csv', index=False)"
   ]
  },
  {
   "cell_type": "code",
   "execution_count": 135,
   "metadata": {},
   "outputs": [],
   "source": [
    "# The Scattered Dataset\n",
    "path = './data/model_data/images_scattered'\n",
    "\n",
    "scattered_files = os.listdir(path)\n",
    "\n",
    "for f in scattered_files:\n",
    "    if f == '.ipynb_checkpoints':\n",
    "        scattered_files.remove(f)\n",
    "    else:\n",
    "        pass\n",
    "    \n",
    "scattered_df = pd.DataFrame(scattered_files, columns=['image_name'])\n",
    "scattered_df['label'] = [i.split('.')[1] for i in scattered_df['image_name']]\n",
    "scattered_df['image_name'] = [i.split('.')[0] + '.' + i.split('.')[1] for i in scattered_df['image_name']]\n",
    "scattered_df['idx'] = [int(i.split('.')[0]) for i in scattered_df['image_name']]\n",
    "scattered_df.set_index('idx', inplace=True)\n",
    "scattered_df.sort_index(ascending=True, inplace=True)\n",
    "\n",
    "save_path = './data/model_data/'\n",
    "scattered_df.to_csv(f'{save_path}/scattered.csv', index=False)"
   ]
  },
  {
   "cell_type": "code",
   "execution_count": 136,
   "metadata": {},
   "outputs": [],
   "source": [
    "# The Images - Stationary Close\n",
    "path = './data/model_data/images_stationary'\n",
    "\n",
    "stationary_files = os.listdir(path)\n",
    "\n",
    "for f in stationary_files:\n",
    "    if f == '.ipynb_checkpoints':\n",
    "        stationary_files.remove(f)\n",
    "    else:\n",
    "        pass\n",
    "    \n",
    "stationary_df = pd.DataFrame(stationary_files, columns=['image_name'])\n",
    "stationary_df['label'] = [i.split('.')[1] for i in stationary_df['image_name']]\n",
    "stationary_df['image_name'] = [i.split('.')[0] + '.' + i.split('.')[1] for i in stationary_df['image_name']]\n",
    "stationary_df['idx'] = [int(i.split('.')[0]) for i in stationary_df['image_name']]\n",
    "stationary_df.set_index('idx', inplace=True)\n",
    "stationary_df.sort_index(ascending=True, inplace=True)\n",
    "\n",
    "save_path = './data/model_data/'\n",
    "stationary_df.to_csv(f'{save_path}/stationary.csv', index=False)"
   ]
  },
  {
   "cell_type": "code",
   "execution_count": null,
   "metadata": {},
   "outputs": [],
   "source": []
  },
  {
   "cell_type": "code",
   "execution_count": null,
   "metadata": {},
   "outputs": [],
   "source": []
  },
  {
   "cell_type": "code",
   "execution_count": null,
   "metadata": {},
   "outputs": [],
   "source": []
  },
  {
   "cell_type": "code",
   "execution_count": null,
   "metadata": {},
   "outputs": [],
   "source": []
  },
  {
   "cell_type": "code",
   "execution_count": null,
   "metadata": {},
   "outputs": [],
   "source": []
  },
  {
   "cell_type": "code",
   "execution_count": null,
   "metadata": {},
   "outputs": [],
   "source": []
  },
  {
   "cell_type": "code",
   "execution_count": null,
   "metadata": {},
   "outputs": [],
   "source": []
  },
  {
   "cell_type": "code",
   "execution_count": null,
   "metadata": {},
   "outputs": [],
   "source": []
  },
  {
   "cell_type": "code",
   "execution_count": null,
   "metadata": {},
   "outputs": [],
   "source": []
  },
  {
   "cell_type": "code",
   "execution_count": null,
   "metadata": {},
   "outputs": [],
   "source": []
  }
 ],
 "metadata": {
  "kernelspec": {
   "display_name": "Python 3",
   "language": "python",
   "name": "python3"
  },
  "language_info": {
   "codemirror_mode": {
    "name": "ipython",
    "version": 3
   },
   "file_extension": ".py",
   "mimetype": "text/x-python",
   "name": "python",
   "nbconvert_exporter": "python",
   "pygments_lexer": "ipython3",
   "version": "3.6.8"
  }
 },
 "nbformat": 4,
 "nbformat_minor": 2
}
